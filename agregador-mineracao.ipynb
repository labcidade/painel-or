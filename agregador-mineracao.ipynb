{
 "cells": [
  {
   "cell_type": "code",
   "execution_count": 1,
   "metadata": {},
   "outputs": [],
   "source": [
    "import pandas as pd"
   ]
  },
  {
   "cell_type": "markdown",
   "metadata": {},
   "source": [
    "### Leitura dados posse"
   ]
  },
  {
   "cell_type": "code",
   "execution_count": 127,
   "metadata": {},
   "outputs": [
    {
     "name": "stderr",
     "output_type": "stream",
     "text": [
      "C:\\Users\\labci\\AppData\\Local\\Temp\\ipykernel_12676\\979523307.py:4: DtypeWarning: Columns (36,37) have mixed types. Specify dtype option on import or set low_memory=False.\n",
      "  df_posse = pd.read_csv(url)\n"
     ]
    }
   ],
   "source": [
    "sheet_id = '1SsVygtWx_Tv6Ps5zjhxeNJcDincPk6jpse-O5aFHQWY'\n",
    "sheet_name = 'DadosPosseTJ'\n",
    "url = f'https://docs.google.com/spreadsheets/d/{sheet_id}/gviz/tq?tqx=out:csv&sheet={sheet_name}'\n",
    "df_posse = pd.read_csv(url)"
   ]
  },
  {
   "cell_type": "code",
   "execution_count": 128,
   "metadata": {},
   "outputs": [
    {
     "data": {
      "text/plain": [
       "55015"
      ]
     },
     "execution_count": 128,
     "metadata": {},
     "output_type": "execute_result"
    }
   ],
   "source": [
    "# Filtrar por imobiliário\n",
    "df_posse = df_posse.query('Imobiliário == \"Sim\"')\n",
    "len(df_posse)"
   ]
  },
  {
   "cell_type": "code",
   "execution_count": 129,
   "metadata": {},
   "outputs": [
    {
     "data": {
      "text/plain": [
       "21737"
      ]
     },
     "execution_count": 129,
     "metadata": {},
     "output_type": "execute_result"
    }
   ],
   "source": [
    "# Filtrar para RMSP (1a RAJ + )\n",
    "df_posse = df_posse.query('UTA in @cod_utas')\n",
    "len(df_posse)"
   ]
  },
  {
   "cell_type": "code",
   "execution_count": 130,
   "metadata": {},
   "outputs": [],
   "source": [
    "# Carrega dados das UTAs\n",
    "utas = pd.read_csv('wkt_utas_rmsp.txt', sep='\\t', usecols=['COD_UTA', 'DOM_PP'])\n",
    "utas = utas.rename(columns={'COD_UTA':'UTA'})\n",
    "cod_utas = utas['UTA'].to_list()"
   ]
  },
  {
   "cell_type": "code",
   "execution_count": 131,
   "metadata": {},
   "outputs": [],
   "source": [
    "def classificar_sentença(sentenca):\n",
    "    if not sentenca or not isinstance(sentenca, str):\n",
    "        return None\n",
    "        \n",
    "    sentencas = list(set([i.strip() for i in sentenca.split(',')]))\n",
    "    if 'Extinção' in sentencas:\n",
    "        return 'Extinta'\n",
    "    if 'Procedente' in sentencas and 'Improcedente' not in sentencas:\n",
    "        return 'Procedente'\n",
    "    \n",
    "    elif 'Improcedente' in sentencas and 'Procedente' in sentencas:\n",
    "        return 'Múltipla'\n",
    "\n",
    "    elif 'Improcedente' in sentencas:\n",
    "        return 'Improcedente'\n",
    "\n",
    "    elif 'Homologação' in sentencas:\n",
    "        return 'Homologação'\n",
    "\n",
    "    else:\n",
    "        return 'Sentença não identificada'"
   ]
  },
  {
   "cell_type": "code",
   "execution_count": 132,
   "metadata": {},
   "outputs": [],
   "source": [
    "# Calcular novas colunas\n",
    "# Calculo do ano\n",
    "df_posse['Ano'] = df_posse['Data de Disponibilização'].apply(lambda x: int(x[-4:]))\n",
    "\n",
    "# Calculo de Ano-Mês\n",
    "df_posse['Ano-Mês'] = df_posse['Data de Disponibilização'].apply(lambda x: x.split('/')[-1] + '-' + x.split('/')[-2])\n",
    "\n",
    "# Calculo da sentença\n",
    "df_posse['Desfecho'] = df_posse['Sentença'].apply(classificar_sentença)"
   ]
  },
  {
   "cell_type": "code",
   "execution_count": 133,
   "metadata": {},
   "outputs": [],
   "source": [
    "# Linha do tempo\n",
    "export = df_posse.query('Ano >= 2017').pivot_table(index='Ano-Mês', values='Processo', aggfunc='count').reset_index()\n",
    "export = export.rename(columns = {'Processo':'Processos'})\n",
    "\n",
    "export.to_csv('posse_por_ano-mes.csv', sep=';', index=False)"
   ]
  },
  {
   "cell_type": "code",
   "execution_count": 134,
   "metadata": {},
   "outputs": [],
   "source": [
    "# Mapa dos conflitos de posse RMSP\n",
    "recorte = ['Procedente', 'Homologação']\n",
    "export = df_posse.query('Desfecho in @recorte').pivot_table(index='UTA', values='Processo', aggfunc='count').reset_index()\n",
    "export = export.merge(utas, on='UTA')\n",
    "export['Processos por domicilio'] = round(export['Processo']*100000/export['DOM_PP'],0).astype(int)\n",
    "export = export.rename(columns={'Processo':'Processos'})\n",
    "export = export[['UTA', 'Processos', 'Processos por domicilio']]\n",
    "\n",
    "export.to_csv('posse_por_uta.csv', sep=';', index=False)"
   ]
  },
  {
   "cell_type": "code",
   "execution_count": 136,
   "metadata": {},
   "outputs": [],
   "source": [
    "# Desfecho por ano\n",
    "export = df_posse.query('Ano >= 2017').pivot_table(index='Desfecho', values='Processo', columns='Ano', aggfunc='count').reset_index()\n",
    "export.to_csv('posse_desfecho_por_ano.csv', sep=';', index=False)"
   ]
  },
  {
   "cell_type": "code",
   "execution_count": 158,
   "metadata": {},
   "outputs": [
    {
     "data": {
      "text/html": [
       "<div>\n",
       "<style scoped>\n",
       "    .dataframe tbody tr th:only-of-type {\n",
       "        vertical-align: middle;\n",
       "    }\n",
       "\n",
       "    .dataframe tbody tr th {\n",
       "        vertical-align: top;\n",
       "    }\n",
       "\n",
       "    .dataframe thead th {\n",
       "        text-align: right;\n",
       "    }\n",
       "</style>\n",
       "<table border=\"1\" class=\"dataframe\">\n",
       "  <thead>\n",
       "    <tr style=\"text-align: right;\">\n",
       "      <th>Ano etiqueta</th>\n",
       "      <th>Ano-Mês</th>\n",
       "      <th>2014</th>\n",
       "      <th>2015</th>\n",
       "      <th>2016</th>\n",
       "      <th>2017</th>\n",
       "      <th>2018</th>\n",
       "      <th>2019</th>\n",
       "      <th>2020</th>\n",
       "      <th>2021</th>\n",
       "      <th>2022</th>\n",
       "    </tr>\n",
       "  </thead>\n",
       "  <tbody>\n",
       "    <tr>\n",
       "      <th>0</th>\n",
       "      <td>2014-01</td>\n",
       "      <td>1.0</td>\n",
       "      <td>0.0</td>\n",
       "      <td>0.0</td>\n",
       "      <td>0.0</td>\n",
       "      <td>0.0</td>\n",
       "      <td>0.0</td>\n",
       "      <td>0.0</td>\n",
       "      <td>0.0</td>\n",
       "      <td>0.0</td>\n",
       "    </tr>\n",
       "    <tr>\n",
       "      <th>1</th>\n",
       "      <td>2014-03</td>\n",
       "      <td>6.0</td>\n",
       "      <td>0.0</td>\n",
       "      <td>0.0</td>\n",
       "      <td>0.0</td>\n",
       "      <td>0.0</td>\n",
       "      <td>0.0</td>\n",
       "      <td>0.0</td>\n",
       "      <td>0.0</td>\n",
       "      <td>0.0</td>\n",
       "    </tr>\n",
       "    <tr>\n",
       "      <th>2</th>\n",
       "      <td>2014-04</td>\n",
       "      <td>9.0</td>\n",
       "      <td>0.0</td>\n",
       "      <td>0.0</td>\n",
       "      <td>0.0</td>\n",
       "      <td>0.0</td>\n",
       "      <td>0.0</td>\n",
       "      <td>0.0</td>\n",
       "      <td>0.0</td>\n",
       "      <td>0.0</td>\n",
       "    </tr>\n",
       "    <tr>\n",
       "      <th>3</th>\n",
       "      <td>2014-05</td>\n",
       "      <td>20.0</td>\n",
       "      <td>0.0</td>\n",
       "      <td>0.0</td>\n",
       "      <td>0.0</td>\n",
       "      <td>0.0</td>\n",
       "      <td>0.0</td>\n",
       "      <td>0.0</td>\n",
       "      <td>0.0</td>\n",
       "      <td>0.0</td>\n",
       "    </tr>\n",
       "    <tr>\n",
       "      <th>4</th>\n",
       "      <td>2014-06</td>\n",
       "      <td>18.0</td>\n",
       "      <td>0.0</td>\n",
       "      <td>0.0</td>\n",
       "      <td>0.0</td>\n",
       "      <td>0.0</td>\n",
       "      <td>0.0</td>\n",
       "      <td>0.0</td>\n",
       "      <td>0.0</td>\n",
       "      <td>0.0</td>\n",
       "    </tr>\n",
       "    <tr>\n",
       "      <th>...</th>\n",
       "      <td>...</td>\n",
       "      <td>...</td>\n",
       "      <td>...</td>\n",
       "      <td>...</td>\n",
       "      <td>...</td>\n",
       "      <td>...</td>\n",
       "      <td>...</td>\n",
       "      <td>...</td>\n",
       "      <td>...</td>\n",
       "      <td>...</td>\n",
       "    </tr>\n",
       "    <tr>\n",
       "      <th>102</th>\n",
       "      <td>2022-08</td>\n",
       "      <td>1.0</td>\n",
       "      <td>3.0</td>\n",
       "      <td>1.0</td>\n",
       "      <td>4.0</td>\n",
       "      <td>6.0</td>\n",
       "      <td>18.0</td>\n",
       "      <td>30.0</td>\n",
       "      <td>55.0</td>\n",
       "      <td>60.0</td>\n",
       "    </tr>\n",
       "    <tr>\n",
       "      <th>103</th>\n",
       "      <td>2022-09</td>\n",
       "      <td>1.0</td>\n",
       "      <td>0.0</td>\n",
       "      <td>0.0</td>\n",
       "      <td>4.0</td>\n",
       "      <td>7.0</td>\n",
       "      <td>12.0</td>\n",
       "      <td>23.0</td>\n",
       "      <td>48.0</td>\n",
       "      <td>69.0</td>\n",
       "    </tr>\n",
       "    <tr>\n",
       "      <th>104</th>\n",
       "      <td>2022-10</td>\n",
       "      <td>0.0</td>\n",
       "      <td>2.0</td>\n",
       "      <td>0.0</td>\n",
       "      <td>2.0</td>\n",
       "      <td>1.0</td>\n",
       "      <td>9.0</td>\n",
       "      <td>21.0</td>\n",
       "      <td>34.0</td>\n",
       "      <td>74.0</td>\n",
       "    </tr>\n",
       "    <tr>\n",
       "      <th>105</th>\n",
       "      <td>2022-11</td>\n",
       "      <td>0.0</td>\n",
       "      <td>1.0</td>\n",
       "      <td>2.0</td>\n",
       "      <td>3.0</td>\n",
       "      <td>1.0</td>\n",
       "      <td>14.0</td>\n",
       "      <td>18.0</td>\n",
       "      <td>24.0</td>\n",
       "      <td>76.0</td>\n",
       "    </tr>\n",
       "    <tr>\n",
       "      <th>106</th>\n",
       "      <td>2022-12</td>\n",
       "      <td>0.0</td>\n",
       "      <td>0.0</td>\n",
       "      <td>0.0</td>\n",
       "      <td>2.0</td>\n",
       "      <td>2.0</td>\n",
       "      <td>6.0</td>\n",
       "      <td>12.0</td>\n",
       "      <td>19.0</td>\n",
       "      <td>43.0</td>\n",
       "    </tr>\n",
       "  </tbody>\n",
       "</table>\n",
       "<p>107 rows × 10 columns</p>\n",
       "</div>"
      ],
      "text/plain": [
       "Ano etiqueta  Ano-Mês  2014  2015  2016  2017  2018  2019  2020  2021  2022\n",
       "0             2014-01   1.0   0.0   0.0   0.0   0.0   0.0   0.0   0.0   0.0\n",
       "1             2014-03   6.0   0.0   0.0   0.0   0.0   0.0   0.0   0.0   0.0\n",
       "2             2014-04   9.0   0.0   0.0   0.0   0.0   0.0   0.0   0.0   0.0\n",
       "3             2014-05  20.0   0.0   0.0   0.0   0.0   0.0   0.0   0.0   0.0\n",
       "4             2014-06  18.0   0.0   0.0   0.0   0.0   0.0   0.0   0.0   0.0\n",
       "..                ...   ...   ...   ...   ...   ...   ...   ...   ...   ...\n",
       "102           2022-08   1.0   3.0   1.0   4.0   6.0  18.0  30.0  55.0  60.0\n",
       "103           2022-09   1.0   0.0   0.0   4.0   7.0  12.0  23.0  48.0  69.0\n",
       "104           2022-10   0.0   2.0   0.0   2.0   1.0   9.0  21.0  34.0  74.0\n",
       "105           2022-11   0.0   1.0   2.0   3.0   1.0  14.0  18.0  24.0  76.0\n",
       "106           2022-12   0.0   0.0   0.0   2.0   2.0   6.0  12.0  19.0  43.0\n",
       "\n",
       "[107 rows x 10 columns]"
      ]
     },
     "execution_count": 158,
     "metadata": {},
     "output_type": "execute_result"
    }
   ],
   "source": [
    "# Ano etiqueta versos ano da sentença\n",
    "export = df_posse.query('`Ano etiqueta` > 2013')\\\n",
    "    .query('Desfecho in @recorte')\\\n",
    "    .pivot_table(columns='Ano etiqueta' , index = 'Ano-Mês', values='Processo', aggfunc='count')\\\n",
    "    .fillna(0).reset_index()\n",
    "#export['Ano etiqueta'] = export['Ano etiqueta'].apply(lambda x: 'Ano ' + str(x))\n",
    "export #= export.melt(id_vars = ['Ano etiqueta'])"
   ]
  },
  {
   "cell_type": "code",
   "execution_count": 159,
   "metadata": {},
   "outputs": [],
   "source": [
    "export.to_csv('posse_etiqueta_vs_datasentenca.csv', sep=';', index=False)"
   ]
  },
  {
   "cell_type": "code",
   "execution_count": null,
   "metadata": {},
   "outputs": [],
   "source": []
  },
  {
   "cell_type": "markdown",
   "metadata": {},
   "source": [
    "### Leitura dados despejos"
   ]
  },
  {
   "cell_type": "markdown",
   "metadata": {},
   "source": [
    "sheet_id = ''\n",
    "sheet_name = ''\n",
    "url = f'https://docs.google.com/spreadsheets/d/{sheet_id}/gviz/tq?tqx=out:csv&sheet={sheet_name}'\n",
    "df_posse = pd.read_csv(url)"
   ]
  }
 ],
 "metadata": {
  "kernelspec": {
   "display_name": "geoenv",
   "language": "python",
   "name": "python3"
  },
  "language_info": {
   "codemirror_mode": {
    "name": "ipython",
    "version": 3
   },
   "file_extension": ".py",
   "mimetype": "text/x-python",
   "name": "python",
   "nbconvert_exporter": "python",
   "pygments_lexer": "ipython3",
   "version": "3.9.7"
  },
  "orig_nbformat": 4
 },
 "nbformat": 4,
 "nbformat_minor": 2
}
