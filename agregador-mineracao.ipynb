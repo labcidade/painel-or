{
 "cells": [
  {
   "cell_type": "code",
   "execution_count": 1,
   "metadata": {},
   "outputs": [],
   "source": [
    "import pandas as pd"
   ]
  },
  {
   "cell_type": "markdown",
   "metadata": {},
   "source": [
    "### Leitura dados posse"
   ]
  },
  {
   "cell_type": "code",
   "execution_count": 127,
   "metadata": {},
   "outputs": [
    {
     "name": "stderr",
     "output_type": "stream",
     "text": [
      "C:\\Users\\labci\\AppData\\Local\\Temp\\ipykernel_12676\\979523307.py:4: DtypeWarning: Columns (36,37) have mixed types. Specify dtype option on import or set low_memory=False.\n",
      "  df_posse = pd.read_csv(url)\n"
     ]
    }
   ],
   "source": [
    "sheet_id = '1SsVygtWx_Tv6Ps5zjhxeNJcDincPk6jpse-O5aFHQWY'\n",
    "sheet_name = 'DadosPosseTJ'\n",
    "url = f'https://docs.google.com/spreadsheets/d/{sheet_id}/gviz/tq?tqx=out:csv&sheet={sheet_name}'\n",
    "df_posse = pd.read_csv(url)"
   ]
  },
  {
   "cell_type": "code",
   "execution_count": 128,
   "metadata": {},
   "outputs": [
    {
     "data": {
      "text/plain": [
       "55015"
      ]
     },
     "execution_count": 128,
     "metadata": {},
     "output_type": "execute_result"
    }
   ],
   "source": [
    "# Filtrar por imobiliário\n",
    "df_posse = df_posse.query('Imobiliário == \"Sim\"')\n",
    "len(df_posse)"
   ]
  },
  {
   "cell_type": "code",
   "execution_count": 129,
   "metadata": {},
   "outputs": [
    {
     "data": {
      "text/plain": [
       "21737"
      ]
     },
     "execution_count": 129,
     "metadata": {},
     "output_type": "execute_result"
    }
   ],
   "source": [
    "# Filtrar para RMSP (1a RAJ + )\n",
    "df_posse = df_posse.query('UTA in @cod_utas')\n",
    "len(df_posse)"
   ]
  },
  {
   "cell_type": "code",
   "execution_count": 130,
   "metadata": {},
   "outputs": [],
   "source": [
    "# Carrega dados das UTAs\n",
    "utas = pd.read_csv('wkt_utas_rmsp.txt', sep='\\t', usecols=['COD_UTA', 'DOM_PP'])\n",
    "utas = utas.rename(columns={'COD_UTA':'UTA'})\n",
    "cod_utas = utas['UTA'].to_list()"
   ]
  },
  {
   "cell_type": "code",
   "execution_count": 131,
   "metadata": {},
   "outputs": [],
   "source": [
    "def classificar_sentença(sentenca):\n",
    "    if not sentenca or not isinstance(sentenca, str):\n",
    "        return None\n",
    "        \n",
    "    sentencas = list(set([i.strip() for i in sentenca.split(',')]))\n",
    "    if 'Extinção' in sentencas:\n",
    "        return 'Extinta'\n",
    "    if 'Procedente' in sentencas and 'Improcedente' not in sentencas:\n",
    "        return 'Procedente'\n",
    "    \n",
    "    elif 'Improcedente' in sentencas and 'Procedente' in sentencas:\n",
    "        return 'Múltipla'\n",
    "\n",
    "    elif 'Improcedente' in sentencas:\n",
    "        return 'Improcedente'\n",
    "\n",
    "    elif 'Homologação' in sentencas:\n",
    "        return 'Homologação'\n",
    "\n",
    "    else:\n",
    "        return 'Sentença não identificada'"
   ]
  },
  {
   "cell_type": "code",
   "execution_count": 132,
   "metadata": {},
   "outputs": [],
   "source": [
    "# Calcular novas colunas\n",
    "# Calculo do ano\n",
    "df_posse['Ano'] = df_posse['Data de Disponibilização'].apply(lambda x: int(x[-4:]))\n",
    "\n",
    "# Calculo de Ano-Mês\n",
    "df_posse['Ano-Mês'] = df_posse['Data de Disponibilização'].apply(lambda x: x.split('/')[-1] + '-' + x.split('/')[-2])\n",
    "\n",
    "# Calculo da sentença\n",
    "df_posse['Desfecho'] = df_posse['Sentença'].apply(classificar_sentença)"
   ]
  },
  {
   "cell_type": "code",
   "execution_count": 133,
   "metadata": {},
   "outputs": [],
   "source": [
    "# Linha do tempo\n",
    "export = df_posse.query('Ano >= 2017').pivot_table(index='Ano-Mês', values='Processo', aggfunc='count').reset_index()\n",
    "export = export.rename(columns = {'Processo':'Processos'})\n",
    "\n",
    "export.to_csv('posse_por_ano-mes.csv', sep=';', index=False)"
   ]
  },
  {
   "cell_type": "code",
   "execution_count": 134,
   "metadata": {},
   "outputs": [],
   "source": [
    "# Mapa dos conflitos de posse RMSP\n",
    "recorte = ['Procedente', 'Homologação']\n",
    "export = df_posse.query('Desfecho in @recorte').pivot_table(index='UTA', values='Processo', aggfunc='count').reset_index()\n",
    "export = export.merge(utas, on='UTA')\n",
    "export['Processos por domicilio'] = round(export['Processo']*100000/export['DOM_PP'],0).astype(int)\n",
    "export = export.rename(columns={'Processo':'Processos'})\n",
    "export = export[['UTA', 'Processos', 'Processos por domicilio']]\n",
    "\n",
    "export.to_csv('posse_por_uta.csv', sep=';', index=False)"
   ]
  },
  {
   "cell_type": "code",
   "execution_count": 136,
   "metadata": {},
   "outputs": [],
   "source": [
    "# Desfecho por ano\n",
    "export = df_posse.query('Ano >= 2017').pivot_table(index='Desfecho', values='Processo', columns='Ano', aggfunc='count').reset_index()\n",
    "export.to_csv('posse_desfecho_por_ano.csv', sep=';', index=False)"
   ]
  },
  {
   "cell_type": "code",
   "execution_count": 143,
   "metadata": {},
   "outputs": [],
   "source": [
    "# Ano etiqueta versos ano da sentença\n",
    "export = df_posse.query('`Ano etiqueta` > 2013')\\\n",
    "    .query('Desfecho in @recorte')\\\n",
    "    .pivot_table(index=['Ano etiqueta', 'Ano-Mês'], values='Processo', aggfunc='count')\\\n",
    "    .reset_index()\n",
    "export['Ano etiqueta'] = export['Ano etiqueta'].apply(lambda x: 'Ano ' + str(x))\n",
    "\n",
    "export.to_csv('posse_etiqueta_vs_datasentenca.csv', sep=';', index=False)"
   ]
  },
  {
   "cell_type": "code",
   "execution_count": null,
   "metadata": {},
   "outputs": [],
   "source": []
  },
  {
   "cell_type": "markdown",
   "metadata": {},
   "source": [
    "### Leitura dados despejos"
   ]
  },
  {
   "cell_type": "markdown",
   "metadata": {},
   "source": [
    "sheet_id = ''\n",
    "sheet_name = ''\n",
    "url = f'https://docs.google.com/spreadsheets/d/{sheet_id}/gviz/tq?tqx=out:csv&sheet={sheet_name}'\n",
    "df_posse = pd.read_csv(url)"
   ]
  }
 ],
 "metadata": {
  "kernelspec": {
   "display_name": "geoenv",
   "language": "python",
   "name": "python3"
  },
  "language_info": {
   "codemirror_mode": {
    "name": "ipython",
    "version": 3
   },
   "file_extension": ".py",
   "mimetype": "text/x-python",
   "name": "python",
   "nbconvert_exporter": "python",
   "pygments_lexer": "ipython3",
   "version": "3.9.7"
  },
  "orig_nbformat": 4
 },
 "nbformat": 4,
 "nbformat_minor": 2
}
